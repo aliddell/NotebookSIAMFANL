{
 "cells": [
  {
   "cell_type": "markdown",
   "metadata": {},
   "source": [
    "$\n",
    "\\newcommand{\\reg}{{}^\\textsuperscript{\\textcircled{\\textsc r}}}\n",
    "\\newcommand{\\ml}{{\\bf L}}\n",
    "$\n",
    "# Solving Nonlinear Equations with Iterative Methods: <br> Solvers and Examples in Julia<br>   C. T. Kelley\n",
    "\n",
    "Copyright C. T. Kelley, 2020"
   ]
  },
  {
   "cell_type": "markdown",
   "metadata": {},
   "source": [
    "To Betty Thomas Kelley"
   ]
  },
  {
   "cell_type": "markdown",
   "metadata": {},
   "source": [
    "## Contents"
   ]
  },
  {
   "cell_type": "markdown",
   "metadata": {},
   "source": [
    "[Preface and Software](Preface_and_Software)\n",
    "\n",
    "- [Preface for the notebook](#Preface-for-the-notebook)\n",
    "\n",
    "- [Preface for the print book](#Preface-for-the-print-book)\n",
    "\n",
    "- [How to get the software](#How-to-get-the-software)\n",
    "\n",
    "- [Software License](LICENSE-CODE.md)\n",
    "\n",
    "- [Text License (ie the notebook)](LICENSE-TEXT.md)\n",
    "\n",
    "[Chapter 1: Introduction](SIAMFANLCh1.ipynb)"
   ]
  },
  {
   "cell_type": "markdown",
   "metadata": {},
   "source": [
    "# Preface and Software"
   ]
  },
  {
   "cell_type": "markdown",
   "metadata": {},
   "source": [
    "## Preface for the notebook"
   ]
  },
  {
   "cell_type": "markdown",
   "metadata": {},
   "source": [
    "This notebook is a more interactive version of the print book. I encourage you to play with the examples, \n",
    "make up your own, and explore the algorithmic parameters. I hope it's more fun to play with this than to just\n",
    "read text. However, the print book is more useful when you need to look something up or want to bookmark a few\n",
    "pages while working on your own projects.\n",
    "\n",
    "I hope that the three parts of this project, print book, notebook, and the solver package make one coherent thing.    \n"
   ]
  },
  {
   "cell_type": "markdown",
   "metadata": {},
   "source": [
    "## Preface for the print book"
   ]
  },
  {
   "cell_type": "markdown",
   "metadata": {},
   "source": [
    "\n",
    "This small book on solvers for nonlinear equations\n",
    "is a user-oriented guide to algorithms and implementation.\n",
    "It is a sequel to \n",
    "<cite data-cite=\"ctk:newton\"><a href=\"siamfa.html#ctk:newton\">(Kel03)</cite>,\n",
    "which used MATLAB® for \n",
    "the solvers and examples. This book uses Julia and adds new material\n",
    "on pseudo-transient continuation, mixed-precision solvers, and\n",
    "Anderson acceleration.\n",
    "\n",
    "Its purpose is to show, via algorithms\n",
    "in pseudocode, in Julia, and with several examples, how one\n",
    "can choose an appropriate Newton-type method for a given problem and\n",
    "write an efficient solver or apply one written by others.\n",
    "\n",
    "This book is intended to\n",
    "complement my larger book complement my larger book \n",
    "<cite data-cite=\"ctk:roots\"><a href=\"siamfa.html#ctk:roots\">(Kel95)</cite>,\n",
    "which focuses on in-depth\n",
    "treatment of convergence theory, but does not discuss the details of\n",
    "solving particular problems, implementation in any particular language,\n",
    "or evaluating a solver for a given problem.\n",
    "\n",
    "The computational examples in this book were\n",
    "done with Julia 1.4 on various Apple computers.\n",
    "The Julia codes for the solvers are in a Julia package.\n",
    "I provide a Jupyter notebook to enable the reader to run all\n",
    "the examples in the book and play with them.\n",
    "\n",
    "I have found that Julia is an excellent environment for a project\n",
    "like this, which unifies a print book, a package of solvers, and an\n",
    "interactive notebook. I have used all the solvers in my own research\n",
    "and many of the examples come from that research.\n",
    "\n",
    "The codes are tuned for clarity and the algorithmic parameters are\n",
    "exposed so the reader can play with them. I have sacrificed a\n",
    "good deal of abstraction, some generality, and a bit of performance\n",
    "for that clarity.  The solvers\n",
    "were designed for production work on desktop and laptop comptuters\n",
    "to solve small-to medium-scale\n",
    "problems having at most a a few tens of thousands of unknowns.\n",
    "Very large-scale problems are best done with software\n",
    "(Trilinos, PETSc, SunDials) desinged for that purpose.\n",
    "\n",
    "We assume that the reader has a good understanding of elementary\n",
    "numerical analysis at the level of \\cite{atkelem} and of numerical\n",
    "linear algebra at the level of \n",
    "<cite data-cite=\"demmel\"><a href=\"siamfa.html#demmel\">(Dem97)</cite>,\n",
    "<cite data-cite=\"IIbook\"><a href=\"siamfa.html#IIbook\">(Ips09)</cite>, and\n",
    "<cite data-cite=\"trefbau\"><a href=\"siamfa.html#trefbau\">(TB96)</cite>.\n",
    "We will also use some deeper results from\n",
    "numerical linear algebra and will refer to \n",
    "<cite data-cite=\"higham\"><a href=\"siamfa.html#higham\">(Hig96)</cite>\n",
    "for those.\n",
    "\n",
    "Because the examples are so closely coupled to the text,\n",
    "this book cannot be understood without a working knowledge of Julia.\n",
    "Unfortunately, there is no introduction to the language aimed at\n",
    "the numerical analyst, as there is for Matlab \n",
    "<cite data-cite=\"nick_matlab\"><a href=\"siamfa.html#nick_matlab\">(HH05)</cite>.\n",
    "One very good reference is the paper \n",
    "<cite data-cite=\"Juliasirev\"><a href=\"siamfa.html#Juliasirev\">(BEKS17)</cite>.\n",
    "The full manual \n",
    "<cite data-cite=\"Julia20\"><a href=\"siamfa.html#Julia20\">(Pro20)</cite> and the online guide\n",
    "<cite data-cite=\"JuliaWeb\"><a href=\"siamfa.html#JuliaWeb\">(Ame20)</cite>\n",
    "also very useful.\n",
    "\n",
    "I do not expect the reader to be an expert\n",
    "in Julia, but do expect the reader to be able to understand the codes,\n",
    "play with the algorithms, and wreak havoc. To that end I have tuned the\n",
    "codes for readability by a Julia novice who knows some numerical analysis. I\n",
    "made the algorithmic parameters very easy to find. As part of this I\n",
    "have sacrificed a lot of abstraction, some generality, and a bit\n",
    "of performance.\n",
    "    \n",
    "The reader should know Julia and its ecosystem\n",
    "well enough to use the package manager,\n",
    "install packages, use modules, and to do basic tasks in\n",
    "numerical methods (LU, SVD, QR) in Julia. The reader should also know\n",
    "how to use github to clone repositories and put\n",
    "them where they need to go.\n",
    "\n",
    "Parts of this book are based on research supported by the National\n",
    "Science Foundation,\n",
    "and the Army Research Office, most recently\n",
    "by NSF grants\n",
    "OAC-1740309,\n",
    "DMS-1745654,\n",
    "DMS-1906446,\n",
    "and\n",
    "ARO grant W911NF-16-1-0504.\n",
    "\n",
    "Any opinions, findings, and conclusions or\n",
    "recommendations expressed in this material are those of the author and\n",
    "do not necessarily reflect the views of the National\n",
    "Science Foundation\n",
    "or the Army Research Office.\n",
    "\n",
    "In addition to the many people who influenced\n",
    "<cite data-cite=\"ctk:newton\"><a href=\"siamfa.html#ctk:newton\">(Kel03)</cite> and\n",
    "<cite data-cite=\"ctk:roots\"><a href=\"siamfa.html#ctk:roots\">(Kel95)</cite>,\n",
    "I want\n",
    "to particularly thank\n",
    "Jerry Bernholc,\n",
    "Wei Bian,\n",
    "Emil Briggs,\n",
    "Xiaojun Chen,\n",
    "Kevin Clarno,\n",
    "Austin Ellis,\n",
    "Tom Evans,\n",
    "Elizabeth Greenspan,\n",
    "Steven Hamilton,\n",
    "Nick Higham,\n",
    "Ilse Ipsen,\n",
    "Elena Jakubikova,\n",
    "Randy LeVeque,\n",
    "Lin Lin,\n",
    "Juan Meza,\n",
    "James Nance,\n",
    "Chung-Wei Ng,\n",
    "Roger Pawlowski,\n",
    "Liqun Qi,\n",
    "Stuart Slattery,\n",
    "Alex Toth,\n",
    "Homer Walker,\n",
    "Jeff Willert,\n",
    "Chao Yang,\n",
    "and a few hundred MA 784 students\n",
    "for their inspiration as I got this project into shape.\n",
    "    \n",
    "C. T. Kelley<br>\n",
    "Raleigh, North Carolina<br>\n",
    "May 2020\n"
   ]
  },
  {
   "cell_type": "markdown",
   "metadata": {},
   "source": [
    "## How to get the software"
   ]
  },
  {
   "cell_type": "markdown",
   "metadata": {},
   "source": [
    "If you are reading this, you've found the notebook and probably have installed the package. The notebooks for the individual chapters get the packages organized in the first code window, which you __must run!__\n",
    "\n",
    "I am assuming you've followed the directions in the README for the repo and cloned the whole works to a place where Julia can find it. I will use the module /src/NotebookSIAMFANL.jl in the notebooks. That module has the examples from the book organized in a sensible way.\n",
    "\n",
    "The project has three parts:\n",
    "\n",
    "- this notebook\n",
    "- the Julia package SIAMFANLEquations.jl\n",
    "- the test problems\n",
    "\n",
    "As you will see, that first code window in each chapter has\n",
    "\n",
    "```julia\n",
    "using SIAMFANLEquations\n",
    "using SIAMFANLEquations.TestProblems\n",
    "using NotebookSIAMFANL\n",
    "using PyPLot\n",
    "```\n",
    "at the start. \n"
   ]
  },
  {
   "cell_type": "code",
   "execution_count": null,
   "metadata": {},
   "outputs": [],
   "source": []
  }
 ],
 "metadata": {
  "kernelspec": {
   "display_name": "Julia 1.4.1",
   "language": "julia",
   "name": "julia-1.4"
  },
  "language_info": {
   "file_extension": ".jl",
   "mimetype": "application/julia",
   "name": "julia",
   "version": "1.4.2"
  }
 },
 "nbformat": 4,
 "nbformat_minor": 4
}
