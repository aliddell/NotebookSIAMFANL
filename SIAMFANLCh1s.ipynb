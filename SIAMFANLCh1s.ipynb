{
 "cells": [
  {
   "cell_type": "code",
   "execution_count": 36,
   "metadata": {},
   "outputs": [],
   "source": [
    "using NotebookSIAMFANL\n",
    "using SIAMFANLEquations\n",
    "using LinearAlgebra\n",
    "using SIAMFANLEquations.TestProblems\n",
    "using PyPlot"
   ]
  },
  {
   "cell_type": "markdown",
   "metadata": {},
   "source": [
    "## Section 1.10 Solvers for Chapter 1\n",
    "\n",
    "Contents for Section 1.10\n",
    "\n",
    "[Overview](#Overview)\n",
    "\n",
    "[nsolsc.jl](#nsolsc.jl)\n"
   ]
  },
  {
   "cell_type": "markdown",
   "metadata": {},
   "source": [
    "### Overview"
   ]
  },
  {
   "cell_type": "markdown",
   "metadata": {},
   "source": [
    "We provide two solvers for this chapter. __nsolsc.jl__ is a scalar Newton code. Its calling sequence and the tuple it returns are very similar to all the codes from this book. All our solvers return a tuple with the solution, the history of the iteration, flags for success or failure, and (optionally) the entire history of the solution. \n",
    "\n",
    "The solution hisory for scalar equations is small and returning it is the default. In the later chapters on systems of equations, we do not return the solution history by default and discourage your asking for it. The solution history might take a lot of space to store and also, especially in Julia, have a severe penalty for allocations."
   ]
  },
  {
   "cell_type": "markdown",
   "metadata": {},
   "source": [
    "### nsolsc.jl"
   ]
  },
  {
   "cell_type": "markdown",
   "metadata": {},
   "source": [
    "__nsolsc.jl__ is the scalar Newton solver. We will begin, as we will in all the software sections, by looking at the documentation in the code."
   ]
  },
  {
   "cell_type": "code",
   "execution_count": 2,
   "metadata": {},
   "outputs": [
    {
     "name": "stdout",
     "output_type": "stream",
     "text": [
      "search: \u001b[0m\u001b[1mn\u001b[22m\u001b[0m\u001b[1ms\u001b[22m\u001b[0m\u001b[1mo\u001b[22m\u001b[0m\u001b[1ml\u001b[22m\u001b[0m\u001b[1ms\u001b[22m\u001b[0m\u001b[1mc\u001b[22m\n",
      "\n"
     ]
    },
    {
     "data": {
      "text/latex": [
       "nsolsc(f,x, fp=difffp; rtol=1.e-6, atol=1.e-12, maxit=10,         solver=\"newton\", sham=1, armmax=10, resdec=.1,         armfix=false, printerr=true, keepsolhist=true)\n",
       "\n",
       "Newton's method for scalar equations. Has most of the features a code for systems of equations needs.\n",
       "\n",
       "Input:\n",
       "\n",
       "f: function\n",
       "\n",
       "x: initial iterate\n",
       "\n",
       "fp: derivative. If your derivative function is fp, you give me its name. For example fp=foobar tells me that foobar is your function for the derivative. The default is a forward difference Jacobian that I provide.\n",
       "\n",
       "Options:\n",
       "\n",
       "rtol, atol: real and absolute error tolerances\n",
       "\n",
       "maxit: upper bound on number of nonlinear iterations\n",
       "\n",
       "solver:\n",
       "\n",
       "Your choices are \"newton\"(default), \"secant\", or \"chord\". However,  you have sham at your disposal only if you chose newton. \"chord\" will keep using the initial derivative until the iterate converges, uses the iteration budget, or the line search fails. It is not the same as sham=Inf, which is smarter.\n",
       "\n",
       "If you use secant and your initial iterate is poor, you have made a mistake. I will help you by driving the line search with a finite difference derivative.\n",
       "\n",
       "sham:\n",
       "\n",
       "This is the Shamanskii method. If sham=1, you have Newton. The iteration updates the derivative every sham iterations. The covergence rate has local q-order sham+1 if you only count iteratons where you update the derivative. You need not provide your own derivative function to use this option. sham=Inf is chord only if chord is converging well.\n",
       "\n",
       "armmax: upper bound on stepsize reductions in linesearch\n",
       "\n",
       "resdec: target value for residual reduction. \n",
       "\n",
       "The default value is .1. In the old MATLAB codes it was .5. I only turn Shamanskii on if the residuals are decreasing rapidly, at least a factor of resdec, and the line search is quiescent. If you want to eliminate resdec from the method ( you don't ) then set resdec = 1.0 and you will never hear from it again.  \n",
       "\n",
       "armfix:\n",
       "\n",
       "The default is a parabolic line search (ie false). Set to true and the stepsize will be fixed at .5. Don't do this unless you are doing experiments for research.\n",
       "\n",
       "printerr:\n",
       "\n",
       "I print a helpful message when the solver fails. To supress that message set printerr to false.\n",
       "\n",
       "keepsolhist:\n",
       "\n",
       "Set this to true to get the history of the iteration in the output tuple. This is on by default for scalar equations and off for systems. Only turn it on if you have use for the data, which can get REALLY LARGE.\n",
       "\n",
       "Output:\n",
       "\n",
       "A tuple (solution, functionval, history, stats, idid, solhist) where history is the vector of residual norms (|f(x)|) for the iteration and stats is a tuple of the history of (ifun, ijac, iarm), the number of functions/derivatives/steplength reductions at each iteration.\n",
       "\n",
       "I do not count the function values for a finite-difference derivative because they count toward a Jacobian evaluation. I do count them for the secant method model.\n",
       "\n",
       "idid=true if the iteration succeeded and false if not.\n",
       "\n",
       "solhist:\n",
       "\n",
       "This is the entire history of the iteration if you've set keepsolhist=true\n",
       "\n"
      ],
      "text/markdown": [
       "nsolsc(f,x, fp=difffp; rtol=1.e-6, atol=1.e-12, maxit=10,         solver=\"newton\", sham=1, armmax=10, resdec=.1,         armfix=false, printerr=true, keepsolhist=true)\n",
       "\n",
       "Newton's method for scalar equations. Has most of the features a code for systems of equations needs.\n",
       "\n",
       "Input:\n",
       "\n",
       "f: function\n",
       "\n",
       "x: initial iterate\n",
       "\n",
       "fp: derivative. If your derivative function is fp, you give me its name. For example fp=foobar tells me that foobar is your function for the derivative. The default is a forward difference Jacobian that I provide.\n",
       "\n",
       "Options:\n",
       "\n",
       "rtol, atol: real and absolute error tolerances\n",
       "\n",
       "maxit: upper bound on number of nonlinear iterations\n",
       "\n",
       "solver:\n",
       "\n",
       "Your choices are \"newton\"(default), \"secant\", or \"chord\". However,  you have sham at your disposal only if you chose newton. \"chord\" will keep using the initial derivative until the iterate converges, uses the iteration budget, or the line search fails. It is not the same as sham=Inf, which is smarter.\n",
       "\n",
       "If you use secant and your initial iterate is poor, you have made a mistake. I will help you by driving the line search with a finite difference derivative.\n",
       "\n",
       "sham:\n",
       "\n",
       "This is the Shamanskii method. If sham=1, you have Newton. The iteration updates the derivative every sham iterations. The covergence rate has local q-order sham+1 if you only count iteratons where you update the derivative. You need not provide your own derivative function to use this option. sham=Inf is chord only if chord is converging well.\n",
       "\n",
       "armmax: upper bound on stepsize reductions in linesearch\n",
       "\n",
       "resdec: target value for residual reduction. \n",
       "\n",
       "The default value is .1. In the old MATLAB codes it was .5. I only turn Shamanskii on if the residuals are decreasing rapidly, at least a factor of resdec, and the line search is quiescent. If you want to eliminate resdec from the method ( you don't ) then set resdec = 1.0 and you will never hear from it again.  \n",
       "\n",
       "armfix:\n",
       "\n",
       "The default is a parabolic line search (ie false). Set to true and the stepsize will be fixed at .5. Don't do this unless you are doing experiments for research.\n",
       "\n",
       "printerr:\n",
       "\n",
       "I print a helpful message when the solver fails. To supress that message set printerr to false.\n",
       "\n",
       "keepsolhist:\n",
       "\n",
       "Set this to true to get the history of the iteration in the output tuple. This is on by default for scalar equations and off for systems. Only turn it on if you have use for the data, which can get REALLY LARGE.\n",
       "\n",
       "Output:\n",
       "\n",
       "A tuple (solution, functionval, history, stats, idid, solhist) where history is the vector of residual norms (|f(x)|) for the iteration and stats is a tuple of the history of (ifun, ijac, iarm), the number of functions/derivatives/steplength reductions at each iteration.\n",
       "\n",
       "I do not count the function values for a finite-difference derivative because they count toward a Jacobian evaluation. I do count them for the secant method model.\n",
       "\n",
       "idid=true if the iteration succeeded and false if not.\n",
       "\n",
       "solhist:\n",
       "\n",
       "This is the entire history of the iteration if you've set keepsolhist=true\n"
      ],
      "text/plain": [
       "  nsolsc(f,x, fp=difffp; rtol=1.e-6, atol=1.e-12, maxit=10, solver=\"newton\",\n",
       "  sham=1, armmax=10, resdec=.1, armfix=false, printerr=true, keepsolhist=true)\n",
       "\n",
       "  Newton's method for scalar equations. Has most of the features a code for\n",
       "  systems of equations needs.\n",
       "\n",
       "  Input:\n",
       "\n",
       "  f: function\n",
       "\n",
       "  x: initial iterate\n",
       "\n",
       "  fp: derivative. If your derivative function is fp, you give me its name. For\n",
       "  example fp=foobar tells me that foobar is your function for the derivative.\n",
       "  The default is a forward difference Jacobian that I provide.\n",
       "\n",
       "  Options:\n",
       "\n",
       "  rtol, atol: real and absolute error tolerances\n",
       "\n",
       "  maxit: upper bound on number of nonlinear iterations\n",
       "\n",
       "  solver:\n",
       "\n",
       "  Your choices are \"newton\"(default), \"secant\", or \"chord\". However, you have\n",
       "  sham at your disposal only if you chose newton. \"chord\" will keep using the\n",
       "  initial derivative until the iterate converges, uses the iteration budget,\n",
       "  or the line search fails. It is not the same as sham=Inf, which is smarter.\n",
       "\n",
       "  If you use secant and your initial iterate is poor, you have made a mistake.\n",
       "  I will help you by driving the line search with a finite difference\n",
       "  derivative.\n",
       "\n",
       "  sham:\n",
       "\n",
       "  This is the Shamanskii method. If sham=1, you have Newton. The iteration\n",
       "  updates the derivative every sham iterations. The covergence rate has local\n",
       "  q-order sham+1 if you only count iteratons where you update the derivative.\n",
       "  You need not provide your own derivative function to use this option.\n",
       "  sham=Inf is chord only if chord is converging well.\n",
       "\n",
       "  armmax: upper bound on stepsize reductions in linesearch\n",
       "\n",
       "  resdec: target value for residual reduction. \n",
       "\n",
       "  The default value is .1. In the old MATLAB codes it was .5. I only turn\n",
       "  Shamanskii on if the residuals are decreasing rapidly, at least a factor of\n",
       "  resdec, and the line search is quiescent. If you want to eliminate resdec\n",
       "  from the method ( you don't ) then set resdec = 1.0 and you will never hear\n",
       "  from it again. \n",
       "\n",
       "  armfix:\n",
       "\n",
       "  The default is a parabolic line search (ie false). Set to true and the\n",
       "  stepsize will be fixed at .5. Don't do this unless you are doing experiments\n",
       "  for research.\n",
       "\n",
       "  printerr:\n",
       "\n",
       "  I print a helpful message when the solver fails. To supress that message set\n",
       "  printerr to false.\n",
       "\n",
       "  keepsolhist:\n",
       "\n",
       "  Set this to true to get the history of the iteration in the output tuple.\n",
       "  This is on by default for scalar equations and off for systems. Only turn it\n",
       "  on if you have use for the data, which can get REALLY LARGE.\n",
       "\n",
       "  Output:\n",
       "\n",
       "  A tuple (solution, functionval, history, stats, idid, solhist) where history\n",
       "  is the vector of residual norms (|f(x)|) for the iteration and stats is a\n",
       "  tuple of the history of (ifun, ijac, iarm), the number of\n",
       "  functions/derivatives/steplength reductions at each iteration.\n",
       "\n",
       "  I do not count the function values for a finite-difference derivative\n",
       "  because they count toward a Jacobian evaluation. I do count them for the\n",
       "  secant method model.\n",
       "\n",
       "  idid=true if the iteration succeeded and false if not.\n",
       "\n",
       "  solhist:\n",
       "\n",
       "  This is the entire history of the iteration if you've set keepsolhist=true"
      ]
     },
     "execution_count": 2,
     "metadata": {},
     "output_type": "execute_result"
    }
   ],
   "source": [
    "? nsolsc"
   ]
  },
  {
   "cell_type": "markdown",
   "metadata": {},
   "source": [
    "#### Input\n",
    "\n",
    "\n",
    "Let's begin with the calling sequence for the solver.\n",
    "\n",
    "```julia\n",
    "nsolsc(\n",
    "    f,\n",
    "    x,\n",
    "    fp = difffp;\n",
    "    rtol = 1.e-6,\n",
    "    atol = 1.e-12,\n",
    "    maxit = 10,\n",
    "    solver = \"newton\",\n",
    "    sham = 1,\n",
    "    armmax = 5,\n",
    "    resdec = .1,\n",
    "    armfix = false,\n",
    "    keepsolhist = true,\n",
    ")\n",
    "```\n",
    "\n",
    "The arguments before the semicolon are required. We are solving $f(x) = 0$ and the solver needs $f$ and the initial iterate $x$. The arguments after the semicolon are __keyword arguments__, usually refered to as __kwargs__, which is not a German cheese product. The semicolon is __very important__. Do not leave it out when using kwargs. The\n",
    "good news about kwargs is that you may use any of them without worrying about the others, which will take their default values. So\n",
    "\n",
    "```julia\n",
    "nsolout0 = nsolsc(atan, 1.0)\n",
    "\n",
    "nsolout1 = nsolsc(atan, 1.0; solver = secant)\n",
    "\n",
    "nsolout2=nsolsc(atan, 3.0; sham=2, resdec=.5)\n",
    "```\n",
    "are all correct.\n",
    "\n",
    "\n",
    "You have seen many of the kwargs before. The realtive and absolute error tolerances, the solver, the parameters\n",
    "for the Shamanskii method and line search should be familiar. The new things are __resedec__, __armfix__, and __keepsolshist__. For example, the derivative is updated every __sham__ iterations. Newton's method is sham=1.\n",
    "\n",
    "The default for derivative evaluation is a forward difference derivative. That is an internal function __difffp__.\n",
    "If you have an analytic derivative, say __fpanal.jl__, then set fp=fpanal and the solver will use your derivative.\n",
    "\n",
    "The documentation explains these parameters. We have mentioned the solution history before. Pleaes leave __keepsolhist__ alone unless there's a good reason to change it. It is set to true for scalar codes and false for\n",
    "the solvers in the following chapters.\n",
    "\n",
    "__resdec__ is how we manage Shamanskii iterations. In this scalar code, it is used for some examples and to prepare you for its more serious use in the codes for systems of equations. In __nsolsc.jl__ the default solver is Newton's method (so sham=1). Newton with sham=2 is the Shamanskii method with a derivative update every two iterations. \n",
    "__But__ we safeguard the skipping of the update by doing the update anyhow if (1) the line search fails on the first attempt (ie with step length = 1) or (2) the residual decrease is more than __resdec__. If you want to eliminate the second of these, set resdec = 1. The only exception to the first criterion is the chord method. If you set solver='chord' then you will get chord. That's in there for research and a few internal tests of the code. \n",
    "If you set sham=Inf, then you'll get the chord method with derivative updates when a step length of 1 fails to produce sufficient decrease or the reduction in residuals is not enough.\n",
    "\n",
    "We also compute a difference derivative in the secant method if the line search kicks in. As I said in the comment lines near that part of the code ...\n",
    "\n",
    "```Julia\n",
    "#=\n",
    "     If you like the secant or sham=large methods, I will do a \n",
    "     difference Jacobian anyhow if the line search kicks in. \n",
    "     You will thank me for this.\n",
    "     Even if you don't thank me, I will do it anyhow.\n",
    "    \n",
    "      If you insist, solver=chord will ignore poor convergence and let\n",
    "     things go south with no interference. Please don't do that as\n",
    "     standard procedure.\n",
    "=#\n",
    "```\n",
    "\n"
   ]
  },
  {
   "cell_type": "markdown",
   "metadata": {},
   "source": [
    "#### Output\n",
    "\n",
    "The output of all the solvers is a tuple. This is a data structure in Julia that can pack differnet structures (including more tuples) in one thing. It's a good way to manage complex output.\n",
    "\n",
    "Here is a simple example of how to use the output tuple. I'll find the root of $f(x) = tan^{-1}(x)$ and look at the iteration statistics."
   ]
  },
  {
   "cell_type": "code",
   "execution_count": 3,
   "metadata": {},
   "outputs": [
    {
     "data": {
      "text/plain": [
       "(solution = -1.13371e-06, functionval = -1.13371e-06, history = [1.47113e+00, 1.19982e+00, 1.10593e+00, 6.48294e-01, 2.56979e-01, 1.19356e-02, 1.13371e-06], stats = (ifun = [1, 3, 2, 2, 1, 1, 1], ijac = [0, 1, 1, 1, 1, 1, 1], iarm = [0, 2, 1, 1, 0, 0, 0]), idid = true, solhist = [1.00000e+01, 2.57080e+00, -1.99394e+00, 7.57517e-01, -2.62790e-01, 1.19362e-02, -1.13371e-06])"
      ]
     },
     "execution_count": 3,
     "metadata": {},
     "output_type": "execute_result"
    }
   ],
   "source": [
    "tanout=nsolsc(atan,10.0)"
   ]
  },
  {
   "cell_type": "markdown",
   "metadata": {},
   "source": [
    "As the problems become larger in the course of the book. I will start putting a semicolon after calls to the solvers. I've taken the defaults for everything, so the iteration terminated when the residual was about $10^{-6}$. Note that the solution history is part of the output. You can (and should) turn this off for systems of equations where the solution history can become a massive storage burden. It may be useful if you want to visualize the history with a movie, but is rarely worth the trouble. The solution and final function values are ..."
   ]
  },
  {
   "cell_type": "code",
   "execution_count": 5,
   "metadata": {},
   "outputs": [
    {
     "data": {
      "text/plain": [
       "1×2 Array{Float64,2}:\n",
       " -1.13371e-06  -1.13371e-06"
      ]
     },
     "execution_count": 5,
     "metadata": {},
     "output_type": "execute_result"
    }
   ],
   "source": [
    "[tanout.solution tanout.functionval]"
   ]
  },
  {
   "cell_type": "markdown",
   "metadata": {},
   "source": [
    "Looking at the itereation history can help you find errors or convince you that things are going well. One simple thing we will do often is to plot a semilog graph of the residual history. If we are comparing methods, it is a good idea to plot $|f(x_n)|/|f(x_0)|$ to that all the plots will begin at the same point. Here is a simple version of that. I like to label things, so I did that too. Since I'll be publishing this as a print book, I'll make the curves black to save on publication costs."
   ]
  },
  {
   "cell_type": "code",
   "execution_count": 21,
   "metadata": {
    "scrolled": true
   },
   "outputs": [
    {
     "data": {
      "image/png": "[encoded data removed]",
      "text/plain": [
       "Figure(PyObject <Figure size 640x480 with 1 Axes>)"
      ]
     },
     "metadata": {},
     "output_type": "display_data"
    },
    {
     "data": {
      "text/plain": [
       "PyObject Text(24.000000000000007, 0.5, 'relative residual')"
      ]
     },
     "execution_count": 21,
     "metadata": {},
     "output_type": "execute_result"
    }
   ],
   "source": [
    "residdata=tanout.history./tanout.history[1]; sizehist=length(residdata)\n",
    "semilogy(0:sizehist-1,residdata,\"k-\")\n",
    "xlabel(\"iterations\")\n",
    "ylabel(\"relative residual\")"
   ]
  },
  {
   "cell_type": "markdown",
   "metadata": {},
   "source": [
    "PyPlot is very similar to Matlab, which is why I use it. The stats array has the data for function and derivative evaluations and the number of stepsize reductions in the line search. As you can see, the line search had some work to do in this example. If the iteration is not doing what you expect, a quick look at stats may help."
   ]
  },
  {
   "cell_type": "code",
   "execution_count": 13,
   "metadata": {},
   "outputs": [
    {
     "data": {
      "text/plain": [
       "(ifun = [1, 3, 2, 2, 1, 1, 1], ijac = [0, 1, 1, 1, 1, 1, 1], iarm = [0, 2, 1, 1, 0, 0, 0])"
      ]
     },
     "execution_count": 13,
     "metadata": {},
     "output_type": "execute_result"
    }
   ],
   "source": [
    "tanout.stats"
   ]
  },
  {
   "cell_type": "markdown",
   "metadata": {},
   "source": [
    "Here we see thatthe line search was active on iterations 1, 2, and 3 and every step size reduction costs a function evaluation like it's supposed to."
   ]
  },
  {
   "cell_type": "markdown",
   "metadata": {},
   "source": [
    "Now we can play with the options. Lets tighten the tolerances and compare three solvers."
   ]
  },
  {
   "cell_type": "code",
   "execution_count": 26,
   "metadata": {},
   "outputs": [
    {
     "name": "stdout",
     "output_type": "stream",
     "text": [
      "Newton failure; maybe increase maxit and/or armmax\n",
      "Current values: maxit  =  10, armmax = 5\n",
      "Give the history array a look to see what's happening.\n",
      "  \n"
     ]
    }
   ],
   "source": [
    "tannewt=nsolsc(atan,1.0; rtol=1.e-12, atol=1.e-12);\n",
    "tansec=nsolsc(atan,1.0; rtol=1.e-12, atol=1.e-12, solver=\"secant\");\n",
    "tanchord=nsolsc(atan,1.0; rtol=1.e-12, atol=1.e-12, solver=\"chord\");"
   ]
  },
  {
   "cell_type": "markdown",
   "metadata": {},
   "source": [
    "Look! The chord method failed to converge. Let's see what happened"
   ]
  },
  {
   "cell_type": "code",
   "execution_count": 27,
   "metadata": {},
   "outputs": [
    {
     "data": {
      "text/plain": [
       "11-element Array{Float64,1}:\n",
       " 7.85398e-01\n",
       " 5.18669e-01\n",
       " 4.36525e-01\n",
       " 3.86104e-01\n",
       " 3.50593e-01\n",
       " 3.23686e-01\n",
       " 3.02326e-01\n",
       " 2.84806e-01\n",
       " 2.70083e-01\n",
       " 2.57474e-01\n",
       " 2.46512e-01"
      ]
     },
     "execution_count": 27,
     "metadata": {},
     "output_type": "execute_result"
    }
   ],
   "source": [
    "tanchord.history"
   ]
  },
  {
   "cell_type": "markdown",
   "metadata": {},
   "source": [
    "Yes, that's going nowhere at all. The problem is that the derivative at $x_0 = 1$ is not good enought to make the chord iteration convcerge well. It would get there eventually, but only after far more iterations that you or I have the patience for. Let's plot the results and see what we got"
   ]
  },
  {
   "cell_type": "code",
   "execution_count": 34,
   "metadata": {},
   "outputs": [
    {
     "data": {
      "image/png": "[encoded data removed]",
      "text/plain": [
       "Figure(PyObject <Figure size 640x480 with 1 Axes>)"
      ]
     },
     "metadata": {},
     "output_type": "display_data"
    },
    {
     "data": {
      "text/plain": [
       "PyObject Text(24.000000000000007, 0.5, 'relative residual')"
      ]
     },
     "execution_count": 34,
     "metadata": {},
     "output_type": "execute_result"
    }
   ],
   "source": [
    "residdatan=tannewt.history./tannewt.history[1]; sizehistn=length(residdatan)\n",
    "residdatas=tansec.history./tansec.history[1]; sizehists=length(residdatas)\n",
    "residdatac=tanchord.history./tanchord.history[1]; sizehistc=length(residdatac)\n",
    "semilogy(0:sizehistn-1,residdatan,\"k-\",\n",
    "0:sizehists-1,residdatas,\"k--\",\n",
    "0:sizehistc-1,residdatac,\"k-.\"\n",
    ")\n",
    "legend([\"Newton\",\"Secant\",\"Chord\"])\n",
    "xlabel(\"iterations\")\n",
    "ylabel(\"relative residual\")"
   ]
  },
  {
   "cell_type": "markdown",
   "metadata": {},
   "source": [
    "This is exactly what you'd expect. The histories for the secant and Newton iterations have the downward concavity of superlinear convergence. Newton's method takes fewer nonlinear iterations (but only by one) while the secant method uses fewer calls to functions. Remember that Newton does a function and derivative evaluation at each step, while the secant iteration only needs a single function evaluation per step. \n",
    "\n",
    "We've seen how to run the solver, pick methods, and look at the output. We are almost done with this section and ready to move on to systems of equations in [Chapter 2](SIAMFANLCh2.ipynb). The last thing to do is talk about how to package your function. Suppose you have Julia code for your function (__myfun.jl__) and its derivative (__myfunp.jl__). Once in the REPL or a notebook, you can put these functions where Julia can find then with the __include__ command. You'd do\n",
    "\n",
    "```Julia\n",
    "include(\"myfun.jl\")\n",
    "include(\"myfunp.jl\")\n",
    "```\n",
    "and then could invoke the solvers. This is far from idea for many reasons.\n",
    "\n",
    "Julia is a complied language. The code for your functions is complied when you invoke the __include__ command. If you make a change to __myfun.jl__, you would have to include it again before you could use it. \n",
    "\n",
    "A better way is to use a module to contain all the code you need for your function. __MyFunction.jl__ is an\n",
    "example of such a module\n",
    "\n",
    "```Julia\n",
    "module MyFunction\n",
    "\n",
    "export(myfun)\n",
    "export(myfunp)\n",
    "\n",
    "function myfun(x)\n",
    "    fun=cos(x)-x\n",
    "    return fun\n",
    "end\n",
    "\n",
    "function myfunp(x)\n",
    "    funp=-sin(x)-1\n",
    "    return funp\n",
    "end\n",
    "end\n",
    "```\n",
    "\n",
    "I've put __MyFunction.jl__ in the src/Chapter1 directory of NotebookSIAMFANL and made it a submodule of NotebookSIAMFANL. To start using it invode the __using__ command. \n"
   ]
  },
  {
   "cell_type": "code",
   "execution_count": 38,
   "metadata": {},
   "outputs": [],
   "source": [
    "using NotebookSIAMFANL.MyFunction"
   ]
  },
  {
   "cell_type": "markdown",
   "metadata": {},
   "source": [
    "To see if the functions are where they need to be, we'll evaluate them."
   ]
  },
  {
   "cell_type": "code",
   "execution_count": 41,
   "metadata": {},
   "outputs": [
    {
     "data": {
      "text/plain": [
       "2-element Array{Float64,1}:\n",
       " -4.14159e+00\n",
       " -1.00000e+00"
      ]
     },
     "execution_count": 41,
     "metadata": {},
     "output_type": "execute_result"
    }
   ],
   "source": [
    "x=pi;\n",
    "y=myfun(x);\n",
    "yp=myfunp(x);\n",
    "[y,yp]"
   ]
  },
  {
   "cell_type": "markdown",
   "metadata": {},
   "source": [
    "We now have both __myfun__ and its derivative __myfunp__ ready to go. We will compare Newton's method with an analytic derivative to the iteration with a forward difference derivative (the default)."
   ]
  },
  {
   "cell_type": "code",
   "execution_count": 45,
   "metadata": {},
   "outputs": [
    {
     "data": {
      "text/plain": [
       "4-element Array{Float64,1}:\n",
       " 0.00000e+00\n",
       " 6.53120e-09\n",
       " 4.36679e-10\n",
       " 1.00131e-12"
      ]
     },
     "execution_count": 45,
     "metadata": {},
     "output_type": "execute_result"
    }
   ],
   "source": [
    "myfunforwarddiff=nsolsc(myfun,1.0);\n",
    "myfunanalytic=nsolsc(myfun,1.0,myfunp);\n",
    "myfunforwarddiff.history-myfunanalytic.history"
   ]
  },
  {
   "cell_type": "markdown",
   "metadata": {},
   "source": [
    "There's no significant difference. We will return to this in the subsequent chapters."
   ]
  },
  {
   "cell_type": "markdown",
   "metadata": {},
   "source": [
    "### ptcsolsc.jl"
   ]
  },
  {
   "cell_type": "markdown",
   "metadata": {},
   "source": [
    "This is the scalar pseudo-transient continuation solver. As usual, we will start with the docstrings"
   ]
  },
  {
   "cell_type": "code",
   "execution_count": 46,
   "metadata": {},
   "outputs": [
    {
     "name": "stdout",
     "output_type": "stream",
     "text": [
      "search: \u001b[0m\u001b[1mp\u001b[22m\u001b[0m\u001b[1mt\u001b[22m\u001b[0m\u001b[1mc\u001b[22m\u001b[0m\u001b[1ms\u001b[22m\u001b[0m\u001b[1mo\u001b[22m\u001b[0m\u001b[1ml\u001b[22m\u001b[0m\u001b[1ms\u001b[22m\u001b[0m\u001b[1mc\u001b[22m\n",
      "\n"
     ]
    },
    {
     "data": {
      "text/latex": [
       "ptcsolsc(f, x, fp=difffp; rtol=1.e-6, atol=1.e-12, fp=difffp,          dt0=1.e-6, maxit=100, keepsolhist=true)\n",
       "\n",
       "Scalar pseudo-transient continuation solver. PTC is designed to find stable steady state solutions of \n",
       "\n",
       "dx/dt = - f(x)\n",
       "\n",
       "It is ABSOLUTELY NOT a general purpose nonlinear solver.\n",
       "\n",
       "Input:\n",
       "\n",
       "f: function\n",
       "\n",
       "x: initial iterate/data\n",
       "\n",
       "fp: derivative. If your derivative function is fp, you give me its name. For example fp=foobar tells me that foobar is your function for the derivative. The default is a forward difference Jacobian that I provide.\n",
       "\n",
       "Options:\n",
       "\n",
       "rtol, atol: real and absolute error tolerances\n",
       "\n",
       "dt0: initial time step. The default value of 1.e-3 is a bit conservative  and is one option you really should play with. Look at the example where I set it to 1.0!\n",
       "\n",
       "maxit: upper bound on number of nonlinear iterations. This is  coupled to dt0. If your choice of dt0 is too small (conservative) then you'll need many iterations to converge and will need a larger value of maxit.\n",
       "\n",
       "keepsolhist: if true you get the history of the iteration in the output  tuple. This is on by default for scalar equations and off for systems. Only turn it on if you have use for the data, which can get REALLY LARGE.\n",
       "\n",
       "Output: A tuple (solution, functionval, history, idid, solhist) where history is the array of absolute function values |f(x)| of residual norms and time steps. Unless something has gone badly wrong, dt approx |f(x\\_0)|/|f(x)|.\n",
       "\n",
       "idid=true if the iteration succeeded and false if not.\n",
       "\n",
       "solhist=entire history of the iteration if keepsolhist=true\n",
       "\n",
       "If the iteration fails it's time to play with the tolerances, dt0, and maxit. You are certian to fail if there is no stable solution to the equation.\n",
       "\n"
      ],
      "text/markdown": [
       "ptcsolsc(f, x, fp=difffp; rtol=1.e-6, atol=1.e-12, fp=difffp,          dt0=1.e-6, maxit=100, keepsolhist=true)\n",
       "\n",
       "Scalar pseudo-transient continuation solver. PTC is designed to find stable steady state solutions of \n",
       "\n",
       "dx/dt = - f(x)\n",
       "\n",
       "It is ABSOLUTELY NOT a general purpose nonlinear solver.\n",
       "\n",
       "Input:\n",
       "\n",
       "f: function\n",
       "\n",
       "x: initial iterate/data\n",
       "\n",
       "fp: derivative. If your derivative function is fp, you give me its name. For example fp=foobar tells me that foobar is your function for the derivative. The default is a forward difference Jacobian that I provide.\n",
       "\n",
       "Options:\n",
       "\n",
       "rtol, atol: real and absolute error tolerances\n",
       "\n",
       "dt0: initial time step. The default value of 1.e-3 is a bit conservative  and is one option you really should play with. Look at the example where I set it to 1.0!\n",
       "\n",
       "maxit: upper bound on number of nonlinear iterations. This is  coupled to dt0. If your choice of dt0 is too small (conservative) then you'll need many iterations to converge and will need a larger value of maxit.\n",
       "\n",
       "keepsolhist: if true you get the history of the iteration in the output  tuple. This is on by default for scalar equations and off for systems. Only turn it on if you have use for the data, which can get REALLY LARGE.\n",
       "\n",
       "Output: A tuple (solution, functionval, history, idid, solhist) where history is the array of absolute function values |f(x)| of residual norms and time steps. Unless something has gone badly wrong, dt approx |f(x_0)|/|f(x)|.\n",
       "\n",
       "idid=true if the iteration succeeded and false if not.\n",
       "\n",
       "solhist=entire history of the iteration if keepsolhist=true\n",
       "\n",
       "If the iteration fails it's time to play with the tolerances, dt0, and maxit. You are certian to fail if there is no stable solution to the equation.\n"
      ],
      "text/plain": [
       "  ptcsolsc(f, x, fp=difffp; rtol=1.e-6, atol=1.e-12, fp=difffp, dt0=1.e-6,\n",
       "  maxit=100, keepsolhist=true)\n",
       "\n",
       "  Scalar pseudo-transient continuation solver. PTC is designed to find stable\n",
       "  steady state solutions of \n",
       "\n",
       "  dx/dt = - f(x)\n",
       "\n",
       "  It is ABSOLUTELY NOT a general purpose nonlinear solver.\n",
       "\n",
       "  Input:\n",
       "\n",
       "  f: function\n",
       "\n",
       "  x: initial iterate/data\n",
       "\n",
       "  fp: derivative. If your derivative function is fp, you give me its name. For\n",
       "  example fp=foobar tells me that foobar is your function for the derivative.\n",
       "  The default is a forward difference Jacobian that I provide.\n",
       "\n",
       "  Options:\n",
       "\n",
       "  rtol, atol: real and absolute error tolerances\n",
       "\n",
       "  dt0: initial time step. The default value of 1.e-3 is a bit conservative and\n",
       "  is one option you really should play with. Look at the example where I set\n",
       "  it to 1.0!\n",
       "\n",
       "  maxit: upper bound on number of nonlinear iterations. This is coupled to\n",
       "  dt0. If your choice of dt0 is too small (conservative) then you'll need many\n",
       "  iterations to converge and will need a larger value of maxit.\n",
       "\n",
       "  keepsolhist: if true you get the history of the iteration in the output\n",
       "  tuple. This is on by default for scalar equations and off for systems. Only\n",
       "  turn it on if you have use for the data, which can get REALLY LARGE.\n",
       "\n",
       "  Output: A tuple (solution, functionval, history, idid, solhist) where\n",
       "  history is the array of absolute function values |f(x)| of residual norms\n",
       "  and time steps. Unless something has gone badly wrong, dt approx\n",
       "  |f(x_0)|/|f(x)|.\n",
       "\n",
       "  idid=true if the iteration succeeded and false if not.\n",
       "\n",
       "  solhist=entire history of the iteration if keepsolhist=true\n",
       "\n",
       "  If the iteration fails it's time to play with the tolerances, dt0, and\n",
       "  maxit. You are certian to fail if there is no stable solution to the\n",
       "  equation."
      ]
     },
     "execution_count": 46,
     "metadata": {},
     "output_type": "execute_result"
    }
   ],
   "source": [
    "?ptcsolsc"
   ]
  },
  {
   "cell_type": "code",
   "execution_count": null,
   "metadata": {},
   "outputs": [],
   "source": []
  }
 ],
 "metadata": {
  "kernelspec": {
   "display_name": "Julia 1.4.1",
   "language": "julia",
   "name": "julia-1.4"
  },
  "language_info": {
   "file_extension": ".jl",
   "mimetype": "application/julia",
   "name": "julia",
   "version": "1.4.2"
  }
 },
 "nbformat": 4,
 "nbformat_minor": 4
}
