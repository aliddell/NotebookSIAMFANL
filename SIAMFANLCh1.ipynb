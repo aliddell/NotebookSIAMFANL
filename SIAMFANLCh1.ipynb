{
 "cells": [
  {
   "cell_type": "markdown",
   "metadata": {},
   "source": [
    "$\\newcommand{\\calf}{{\\cal F}}\n",
    "\\newcommand{\\dnu}{d \\nu}\n",
    "\\newcommand{\\mf}{{\\bf F}}\n",
    "\\newcommand{\\vu}{{\\bf u}}\n",
    "\\newcommand{\\vx}{{\\bf x}}\n",
    "\\newcommand{\\vy}{{\\bf y}}\n",
    "\\newcommand{\\vs}{{\\bf s}}\n",
    "\\newcommand{\\ve}{{\\bf e}}\n",
    "\\newcommand{\\vd}{{\\bf d}}\n",
    "\\newcommand{\\mg}{{\\bf G}}\n",
    "\\newcommand{\\ml}{{\\bf L}}\n",
    "\\newcommand{\\mg}{{\\bf G}}\n",
    "\\newcommand{\\ma}{{\\bf A}}\n",
    "\\newcommand{\\mi}{{\\bf I}}\n",
    "\\newcommand{\\mm}{{\\bf M}}\n",
    "\\newcommand{\\diag}{\\mbox{diag}}\n",
    "\\newcommand{\\begeq}{{\\begin{equation}}}\n",
    "\\newcommand{\\endeq}{{\\end{equation}}}\n",
    "$"
   ]
  },
  {
   "cell_type": "code",
   "execution_count": 7,
   "metadata": {},
   "outputs": [],
   "source": [
    "using SIAMFANLEquations\n",
    "using SIAMFANLEquations.TestProblems\n",
    "using PyPlot\n",
    "using NotebookSIAMFANL\n",
    "using Revise"
   ]
  },
  {
   "cell_type": "markdown",
   "metadata": {},
   "source": [
    "# Chapter 1: Introduction"
   ]
  },
  {
   "cell_type": "markdown",
   "metadata": {},
   "source": [
    "## Section 1.1: What is the problem?\n",
    "\n",
    "Nonlinear equations are solved as part of almost all simulations of\n",
    "physical processes. Physical models that are expressed as\n",
    "nonlinear partial differential equations, for example, become\n",
    "large systems of nonlinear equations when discretized. Authors of\n",
    "simulation codes must either use a nonlinear solver as a tool or\n",
    "write one from scratch. The purpose of this book is to show\n",
    "these authors what technology is available, sketch the implementation,\n",
    "and warn of the problems. We do this via algorithmic outlines,\n",
    "nonlinear solvers in Julia that can be used for\n",
    "production work, a suite of example problems, an IJulia notebook,\n",
    "and chapter-ending projects.\n",
    "\n",
    "We use the standard notation\n",
    "\n",
    "\\begin{equation}\n",
    "\\mf(\\vx) = 0\n",
    "\\end{equation}\n",
    "\n",
    "for systems of $N$ equations in $N$ unknowns.\n",
    "Here $\\mf:R^N  \\to R^N$. We will call $\\mf$ the\n",
    "__nonlinear residual__\n",
    " or simply the __residual__.\n",
    "Rarely can the solution of a nonlinear equation be given by\n",
    "a closed-form expression, so iterative methods must be used\n",
    "to approximate the solution numerically.\n",
    "The output of an iterative method\n",
    "is a sequence of approximations to a solution.\n"
   ]
  },
  {
   "cell_type": "markdown",
   "metadata": {},
   "source": [
    "### Section 1.1.1: Notation\n",
    "\n",
    "\n",
    "In this book, following the convention in \n",
    "<cite data-cite=\"ctk:roots\"><a href=\"siamfa.html#ctk:roots\">(Kel95)</cite>\n",
    "and\n",
    "<cite data-cite=\"ctk:newton\"><a href=\"siamfa.html#ctk:newton\">(Kel03)</cite>,\n",
    "vectors are to be understood as column vectors.\n",
    "We denote vectors by boldfaced lower case letters\n",
    "and matrices by boldfaced upper case letters,\n",
    "for example $\\vx$  and $\\ma$. We denote the $i$th component of $\\vx$\n",
    "by $x_i$ to distinguish between the $i$th member of a sequence of\n",
    "vectors $\\vx_i$. We denote the $ij$ entry of $\\ma$ by $\\ma_{ij}$.\n",
    "\n",
    "The vector\n",
    "$\\vx^*$ will denote a solution, $x$ a potential solution,\n",
    "and $\\{ \\vx_n \\}_{n \\ge 0}$ the sequence of iterates. We will refer to\n",
    "$\\vx_0$ as the\n",
    "\\index{Initial!guess}\n",
    "\\index{Initial!iterate}{\\bf initial iterate (not guess!)}.\n",
    "We will denote\n",
    "the $i$th component of a vector $\\vx$ by $x_i$\n",
    "and the $i$th component of an index vector\n",
    "$\\vx_n$ by $x_{ni}$. We will rarely need\n",
    "to refer to individual components of vectors.\n",
    "We will let\n",
    "$\\partial \\mf/\\partial x_i$ denote the partial derivative of $\\mf$\n",
    "with respect to\n",
    "$x_i$. As is standard\n",
    "<cite data-cite=\"dens\"><a href=\"siamfa.html#dens\">(DS96)</cite>,\n",
    "<cite data-cite=\"ctk:roots\"><a href=\"siamfa.html#ctk:roots\">(Kel95)</cite>,\n",
    "$\\ve = \\vx - \\vx^*$ will denote the error. So, for example,\n",
    "$\\ve_n = \\vx_n - \\vx^*$ is the error in the $n$th iterate.\n",
    "    \n",
    "If the components of $\\mf$ are differentiable at $\\vx \\in R^N$,\n",
    "we define the __Jacobian matrix__\n",
    "$\\mf'(\\vx)$ by\n",
    "    \n",
    "$$\n",
    "\\mf'(\\vx)_{ij} = \\frac{\\partial f_i}{\\partial x_j} (\\vx).\n",
    "$$\n",
    "Throughout the book, $\\| \\cdot \\|$ will denote the Euclidean norm\n",
    "on $R^N$:\n",
    "    \n",
    "$$\n",
    "\\| \\vx \\| = \\left( \\sum_{i=1}^N x_i^2 \\right)^{1/2}.\n",
    "$$\n",
    "\n",
    "\n",
    "We treat scalar equations with lowercase letters. So a scalar equation\n",
    "is $f(x) = 0$ and the derivative is $f'(x)$.\n",
    "Many of the essential ideas in this book can be illustrated with scalar\n",
    "equations and we do that in this chapter. The exception is the need to\n",
    "solver linear systems of equations and linear least squares problems, which\n",
    "will be the focus of the remaining chapters in the book.\n",
    "The Julia codes for the examples in this section are in the\n",
    "[src/Chapter1](src/Chapter1)\n",
    "directory for the notebook. The solvers and\n",
    "test problems are part of the [SIAMFANLEquations](https://github.com/ctkelley/NotebookSIAMFANL) Julia package.\n",
    "    \n"
   ]
  },
  {
   "cell_type": "markdown",
   "metadata": {},
   "source": [
    "## Section 1.2: Newton's Method\n",
    "\n",
    "Most of the methods in this book are variations of Newton's method.\n",
    "The exception will be Anderson acceleration, which we cover in\n",
    "Chapter~\\ref{ch:anderson}.\n",
    "\n",
    "The Newton sequence is\n",
    "\n",
    "$$\n",
    "\\vx_{n+1} = \\vx_n - \\mf'(\\vx_n)^{-1} \\mf(\\vx_n).\n",
    "$$\n",
    "\n",
    "The interpretation of \\eqnok{newtonseq} is that\n",
    "we model $\\mf$ at the current iterate $\\vx_n$ with a linear\n",
    "function\n",
    "$$\n",
    "\\mm_n(x) = \\mf(\\vx_n) + \\mf'(\\vx_n) (\\vx - \\vx_n)\n",
    "$$\n",
    "and let the root of $\\mm_n$ be the next iteration.\n",
    "$\\mm_n$ is called the\n",
    "__local linear model__.\n",
    "If $\\mf'(\\vx_n)$ is\n",
    "nonsingular, then the Newton sequence is the solution of $\\mm_n(\\vx_{n+1}) = 0$.\n",
    "\n",
    "We illusrate  the local linear model and the\n",
    "Newton iteration for the scalar equation\n",
    "\\[\n",
    "\\arctan(x) = 0\n",
    "\\]\n",
    "with initial iterate $x_0 = 1$. We graph the local linear model\n",
    "\\[\n",
    "m_j(x) = f(x_j) + f'(x_j) (x - x_j)\n",
    "\\]\n",
    "at $x_j$ from the point $(x_j, y_j) = (x_j, f(x_j))$ to the next iteration\n",
    "$(x_{j+1},0)$. The iteration converges rapidly and one can see the\n",
    "linear model becoming more and more accurate. The third iterate is\n",
    "visually indistinguishable from the solution.\n",
    "\n",
    "Run the code window below to see the plot. The code __atan_test.jl__ runs the solver\n",
    "__nsolsc.jl__ from the[SIAMFANLEquations](https://github.com/ctkelley/NotebookSIAMFANL) Julia package,\n",
    "collects the data for the plot, and then runs some messy PyPlot commands. We will discuss the solver in detail\n",
    "in [Section 1.10](#Section-1.10:-Scalar-Equation-Solver). For now we will focus on the results\n",
    "\n",
    "The Julia program __fig1dot1.jl__\n",
    "creates Figure 1.1 in this chapter. The semicolon after the function call suppresses some unnecessary output from PyPlot. Remove to see what happens."
   ]
  },
  {
   "cell_type": "code",
   "execution_count": 2,
   "metadata": {},
   "outputs": [
    {
     "data": {
      "image/png": "[encoded data removed]",
      "text/plain": [
       "Figure(PyObject <Figure size 640x480 with 1 Axes>)"
      ]
     },
     "metadata": {},
     "output_type": "display_data"
    }
   ],
   "source": [
    "fig1dot1();"
   ]
  },
  {
   "cell_type": "markdown",
   "metadata": {},
   "source": [
    "The computation of a Newton iteration requires\n",
    "\n",
    "1. evaluation of $\\mf(\\vx_n)$ and a test for termination,\n",
    "2. approximate solution of the equation\n",
    "$\\mf'(\\vx_n) \\vs = - \\mf(\\vx_n)$\n",
    "for the Newton step $\\vs$, and\n",
    "3. construction of $\\vx_{n+1} = \\vx_n + \\lambda \\vs$, where the\n",
    "step length $\\lambda$ is selected to guarantee decrease in $\\| \\mf \\|$.\n",
    "\n",
    "\n",
    "The computation of the Newton step,\n",
    "consumes most of the work, and the variations\n",
    "in Newton's method that we discuss in this book differ most significantly\n",
    "in how the Newton step is approximated. Computing the\n",
    "step may require evaluation and factorization of the Jacobian matrix\n",
    "or the solution of the linear equation by an iterative method.\n",
    "Not all methods for computing\n",
    "the Newton step require the complete Jacobian matrix, which, as we\n",
    "will see in [Chapter 2](SIAMFANLCh2.ipynb)\n",
    "can be very expensive.\n",
    "\n",
    "In the example from Figure 1.1, the step $s$\n",
    "in  was\n",
    "satisfactory, and we can use $\\lambda=1$ in step 3. The reader\n",
    "should be warned that attention to the step length is generally very\n",
    "important. One should not write one's own nonlinear solver without\n",
    "step-length control (see [Section 1.6](#Section-1.10:-Global_Convergence_and_the_Armijo_Rule)).\n",
    "\n"
   ]
  },
  {
   "cell_type": "markdown",
   "metadata": {},
   "source": [
    "### Section 1.2.1: Local Convergence Theory\n",
    "\n",
    "The convergence theory for Newton's method \n",
    "<cite data-cite=\"dens\"><a href=\"siamfa.html#dens\">(DS96)</cite>,\n",
    "<cite data-cite=\"ctk:roots\"><a href=\"siamfa.html#ctk:roots\">(Kel95)</cite>,\n",
    "<cite data-cite=\"ortega\"><a href=\"siamfa.html#ortega\">(OR70)</cite>,\n",
    "that is most often seen in an elementary course in numerical methods\n",
    "is __local__. This means\n",
    "that one assumes that the __initial iterate__ $\\vx_0$ is near a solution.\n",
    "The local convergence\n",
    "theory from\n",
    "<cite data-cite=\"dens\"><a href=\"siamfa.html#dens\">(DS96)</cite>,\n",
    "<cite data-cite=\"ctk:roots\"><a href=\"siamfa.html#ctk:roots\">(Kel95)</cite>,\n",
    "<cite data-cite=\"ortega\"><a href=\"siamfa.html#ortega\">(OR70)</cite>,\n",
    "requires the __standard assumptions__.\n",
    "    \n",
    "---\n",
    "__Assumption:__\n",
    "\n",
    "1. The equation $\\mf(\\vx) = 0$ has a solution $\\vx^*$.\n",
    "2. $\\mf': \\Omega \\to R^{N \\times N}$ is Lipschitz continuous near $\\vx^*$.}\n",
    "3. $\\mf'(\\vx^*)$ is nonsingular.\n",
    "---\n",
    "\n",
    "Recall that Lipschitz continuity near $\\vx^*$\n",
    "means that there is $\\gamma > 0$\n",
    "(the __Lipschitz constant__) such that\n",
    "    \n",
    "$$\n",
    "\\| \\mf'(\\vx) - \\mf'(\\vy) \\| \\le \\gamma \\| \\vx - \\vy \\|\n",
    "$$\n",
    "for all $\\vx, \\vy$ sufficiently near $\\vx^*$.\n",
    "\n",
    "We state the classic local convergence theorem.\n",
    "\n",
    "___\n",
    "__Theorem: (Local)__ Let the standard assumptions hold. If $\\vx_0$ is sufficiently\n",
    "near $\\vx^*$, then the Newton sequence exists\n",
    "(i.e., $\\mf'(\\vx_n)$ is nonsingular\n",
    "for all $n \\ge 0$) and converges to $\\vx^*$ and there is $K > 0$ such that\n",
    "    \n",
    "$$\n",
    "\\| \\ve_{n+1} \\| \\le K \\| \\ve_n \\|^2\n",
    "$$\n",
    "for $n$ sufficiently large.\n",
    "___\n",
    "\n",
    "\n",
    "The convergence described by the theorem, in which\n",
    "the error in the solution will be roughly squared with each iteration,\n",
    "is called  __q-quadratic__. \n",
    "Squaring the error roughly means that the number of significant\n",
    "figures in the result doubles with each iteration.  Of course,\n",
    "one cannot examine the error without knowing the solution. However,\n",
    "we can observe the quadratic reduction in the error computationally,\n",
    "if $\\mf'(\\vx*)$ is well conditioned,\n",
    "because the nonlinear residual\n",
    "will also be roughly squared with each iteration.\n",
    "Therefore, we should see the\n",
    "exponent field of the norm of the nonlinear residual roughly double\n",
    "with each iteration.\n",
    "    \n",
    "In Table 1.1 we report the Newton iteration\n",
    "for the scalar ($N=1$) nonlinear equation\n",
    "    \n",
    "$$\n",
    "f(x) = \\tan(x) - x = 0, \\, x_0 = 4.5.\n",
    "$$\n",
    "The solution is $x^* \\approx 4.493$.\n",
    "\n",
    "The decrease in the function\n",
    "is as the theory predicts for the first three iterations, then progress\n",
    "slows down for iteration 4 and stops completely after that. The\n",
    "reason for this __stagnation__\n",
    "is clear: one cannot evaluate the function\n",
    "to higher precision than (roughly) machine unit roundoff, which in\n",
    "the IEEE\n",
    "<cite data-cite=\"ieee\"><a href=\"siamfa.html#ieee\">(IEE85)</cite>,\n",
    "<cite data-cite=\"IEEEnew\"><a href=\"siamfa.html#IEEEnew\">(IEE19)</cite>,\n",
    "<cite data-cite=\"overtonbook\"><a href=\"siamfa.html#overtonbook\">(Ove01)</cite>\n",
    "floating point system is about $10^{-16}$.\n",
    "\n",
    "We make Table 1.1 with __tab1dot1.jl__.\n"
   ]
  },
  {
   "cell_type": "markdown",
   "metadata": {},
   "source": [
    "## Section 1.3: Approximating the Jacobian"
   ]
  },
  {
   "cell_type": "code",
   "execution_count": 8,
   "metadata": {},
   "outputs": [
    {
     "name": "stdout",
     "output_type": "stream",
     "text": [
      "Linesearch failure\n",
      "Linesearch failure\n",
      "Linesearch failure\n",
      "Linesearch failure\n",
      "Linesearch failure\n",
      "Linesearch failure\n",
      "Linesearch failure\n",
      "Linesearch failure\n",
      "Linesearch failure\n",
      "Linesearch failure\n",
      "Newton failure; maybe increase maxit and/or armmax\n",
      "The line search failed at least once.\n",
      "Current values: maxit  =  14, armmax = 5\n",
      "Give the history array a look to see what's happening.\n",
      "  \n"
     ]
    },
    {
     "data": {
      "text/plain": [
       "(solution = 4.49341e+00, functionval = 8.88178e-16, history = [1.37332e-01, 4.13194e-03, 3.98176e-06, 5.59552e-12, 8.88178e-16, 8.88178e-16, 8.88178e-16, 8.88178e-16, 8.88178e-16, 8.88178e-16, 8.88178e-16, 8.88178e-16, 8.88178e-16, 8.88178e-16, 8.88178e-16], stats = (ifun = [1, 1, 1, 1, 1, 6, 6, 6, 6, 6, 6, 6, 6, 6, 6], ijac = [0, 1, 1, 1, 1, 1, 1, 1, 1, 1, 1, 1, 1, 1, 1], iarm = [0, 0, 0, 0, 0, 5, 5, 5, 5, 5, 5, 5, 5, 5, 5]), iarm = [0, 0, 0, 0, 0, 5, 5, 5, 5, 5, 5, 5, 5, 5, 5], idid = false, solhist = [4.50000e+00, 4.49361e+00, 4.49341e+00, 4.49341e+00, 4.49341e+00, 4.49341e+00, 4.49341e+00, 4.49341e+00, 4.49341e+00, 4.49341e+00, 4.49341e+00, 4.49341e+00, 4.49341e+00, 4.49341e+00, 4.49341e+00])"
      ]
     },
     "execution_count": 8,
     "metadata": {},
     "output_type": "execute_result"
    }
   ],
   "source": [
    "tab1dot1()"
   ]
  },
  {
   "cell_type": "markdown",
   "metadata": {},
   "source": [
    "## Section 1.4: Inexact Newton Methods"
   ]
  },
  {
   "cell_type": "markdown",
   "metadata": {},
   "source": [
    "## Section 1.5: Termination of the Iteration"
   ]
  },
  {
   "cell_type": "markdown",
   "metadata": {},
   "source": [
    "## Section 1.6: Global Convergence and the Armijo Rule"
   ]
  },
  {
   "cell_type": "markdown",
   "metadata": {},
   "source": [
    "## Section 1.7: Pseudo-Transient Continuation"
   ]
  },
  {
   "cell_type": "markdown",
   "metadata": {},
   "source": [
    "## Section 1.8: Things to Consider"
   ]
  },
  {
   "cell_type": "markdown",
   "metadata": {},
   "source": [
    "## What Can Go Wrong?"
   ]
  },
  {
   "cell_type": "markdown",
   "metadata": {},
   "source": [
    "\n",
    "## Section 1.10: Scalar Equation Solver"
   ]
  },
  {
   "cell_type": "code",
   "execution_count": null,
   "metadata": {},
   "outputs": [],
   "source": []
  }
 ],
 "metadata": {
  "kernelspec": {
   "display_name": "Julia 1.4.1",
   "language": "julia",
   "name": "julia-1.4"
  },
  "language_info": {
   "file_extension": ".jl",
   "mimetype": "application/julia",
   "name": "julia",
   "version": "1.4.2"
  }
 },
 "nbformat": 4,
 "nbformat_minor": 4
}
