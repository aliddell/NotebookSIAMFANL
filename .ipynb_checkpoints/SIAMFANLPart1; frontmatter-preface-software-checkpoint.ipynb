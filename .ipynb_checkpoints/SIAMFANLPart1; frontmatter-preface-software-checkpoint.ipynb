{
 "cells": [
  {
   "cell_type": "markdown",
   "metadata": {},
   "source": [
    "$\\newcommand{\\reg}{{}^\\textsuperscript{\\textcircled{\\textsc r}}}\n",
    "\\newcommand{\\ml}{{\\bf L}}\n",
    "$\n",
    "# Solving Nonlinear Equations with Iterative Methods: <br> Solvers and Examples in Julia"
   ]
  },
  {
   "cell_type": "markdown",
   "metadata": {},
   "source": [
    "## C. T. Kelley"
   ]
  },
  {
   "cell_type": "markdown",
   "metadata": {},
   "source": [
    "This is the notebook which accompanies the print book and the package.\n",
    "\n",
    "\n",
    "## Preface for print book:\n",
    "\n",
    "This small book on solvers for nonlinear equations\n",
    "is a user-oriented guide to algorithms and implementation.\n",
    "It is a sequel to \\cite{ctk:newton} which used MATLAB® for\n",
    "the solvers and examples. This book uses Julia and adds new material\n",
    "on pseudo-transient continuation, mixed-precision solvers, and\n",
    "Anderson acceleration.\n",
    "\n",
    "Its purpose is to show, via algorithms\n",
    "in pseudocode, in Julia, and with several examples, how one\n",
    "can choose an appropriate Newton-type method for a given problem and\n",
    "write an efficient solver or apply one written by others.\n",
    "\n",
    "This book is intended to\n",
    "complement my larger book \\cite{ctk:roots}, which focuses on in-depth\n",
    "treatment of convergence theory, but does not discuss the details of\n",
    "solving particular problems, implementation in any particular language,\n",
    "or evaluating a solver for a given problem.\n",
    "\n",
    "The computational examples in this book were\n",
    "done with Julia 1.4 on various Apple computers.\n",
    "The Julia codes for the solvers are in a Julia package.\n",
    "I provide a Jupyter notebook to enable the reader to run all\n",
    "the examples in the book and play with them.\n",
    "\n",
    "I have found that Julia is an excellent environment for a project\n",
    "like this, which unifies a print book, a package of solvers, and an\n",
    "interactive notebook. I have used all the solvers in my own research\n",
    "and many of the examples come from that research.\n",
    "\n",
    "The codes are tuned for clarity and the algorithmic parameters are\n",
    "exposed so the reader can play with them. I have sacrificed a\n",
    "good deal of abstraction, some generality, and a bit of performance\n",
    "for that clarity.  The solvers\n",
    "were designed for production work on desktop and laptop comptuters\n",
    "to solve small-to medium-scale\n",
    "problems having at most a a few tens of thousands of unknowns.\n",
    "Very large-scale problems are best done with software\n",
    "(Trilinos, PETSc, SunDials) desinged for that purpose.\n",
    "\n",
    "We assume that the reader has a good understanding of elementary\n",
    "numerical analysis at the level of \\cite{atkelem} and of numerical\n",
    "linear algebra at the level of \\cite{trefbau,demmel,IIbook}.\n",
    "We will also use some deeper results from\n",
    "numerical linear algebra and will refer to \\cite{higham} for those.\n",
    "\n",
    "Because\n",
    "the examples are so closely coupled to the text,\n",
    "this book cannot be understood without a working knowledge of Julia.\n",
    "There are many introductory books on MATLAB. Either of\n",
    "\\cite{matprimer} and \\cite{nick_matlab} would be a good place to start.\n",
    "\n",
    "Parts of this book are based on research supported by the National\n",
    "Science Foundation,\n",
    "%the US Department of Energy,\n",
    "and the Army Research Office, most recently\n",
    "by NSF grants\n",
    "OAC-1740309,\n",
    "DMS-1745654,\n",
    "\n",
    "DMS-1906446,\n",
    "and\n",
    "ARO grant W911NF-16-1-0504.\n",
    "\n",
    "Any opinions, findings, and conclusions or\n",
    "recommendations expressed in this material are those of the author and\n",
    "do not necessarily reflect the views of the National\n",
    "Science Foundation\n",
    "%, the Department of Energy,\n",
    "or the Army Research Office.\n"
   ]
  },
  {
   "cell_type": "code",
   "execution_count": null,
   "metadata": {},
   "outputs": [],
   "source": []
  },
  {
   "cell_type": "code",
   "execution_count": null,
   "metadata": {},
   "outputs": [],
   "source": []
  },
  {
   "cell_type": "code",
   "execution_count": null,
   "metadata": {},
   "outputs": [],
   "source": []
  }
 ],
 "metadata": {
  "kernelspec": {
   "display_name": "Julia 1.4.1",
   "language": "julia",
   "name": "julia-1.4"
  },
  "language_info": {
   "file_extension": ".jl",
   "mimetype": "application/julia",
   "name": "julia",
   "version": "1.4.1"
  }
 },
 "nbformat": 4,
 "nbformat_minor": 4
}
